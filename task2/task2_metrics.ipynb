{
 "cells": [
  {
   "cell_type": "markdown",
   "metadata": {},
   "source": [
    "# LAP Task 2\n",
    "In this task you are expected to upsample a selection of HRTFs such that they match the original HRTFs as closely as possible. \n",
    "Here we will use the Python package Spatial Audio Metrics (SAM) to compare the HRTFs against the metrics chosen by the LAP challenge\n",
    "\n",
    "### Installing the package\n",
    "To install SAM you just need to run `pip install spatialaudiometrics` and it should install into your chosen Python environment\n",
    "\n",
    "There is a function in the package which you can use to generate the metrics that we will use to judge differences between the original and upsampled HRTFs "
   ]
  },
  {
   "cell_type": "code",
   "execution_count": null,
   "metadata": {},
   "outputs": [],
   "source": [
    "from spatialaudiometrics import lap_challenge as lap\n",
    "hrtf_original   = 'original_hrtf.sofa'\n",
    "hrtf_upsampled  = 'upsampled_hrtf.sofa'\n",
    "\n",
    "metrics,threshold_bool,df = lap.calculate_task_two_metrics(hrtf_original,hrtf_upsampled)"
   ]
  },
  {
   "cell_type": "markdown",
   "metadata": {},
   "source": [
    "Input the strings for the path for each sofa path. It will attempt to match the source positions (ignoring distance) of each of them (if they are at different indicies within the sofa file) and then calculate differences in the ITD, ILD and spectra (LSD). The values for this will be stored in metrics, and also df (which is a dataframe containing all the printed values plus some additional information). Threshold_bool is a boolean array that will tell you if the differences are above (False) or below (True) the required threshold for the challenge.\n",
    "\n",
    "\n",
    "If you would like to have more agency about the calculations or calculate the metrics separately then see below for more information.\n",
    "\n",
    "### Loading example data\n",
    "SAM has some example sofa files you can use to compare which we can load by running the below code:"
   ]
  },
  {
   "cell_type": "code",
   "execution_count": null,
   "metadata": {},
   "outputs": [],
   "source": [
    "from spatialaudiometrics import load_data as ld\n",
    "hrtf1,hrtf2 = ld.load_example_sofa_files()"
   ]
  },
  {
   "cell_type": "markdown",
   "metadata": {},
   "source": [
    "### Loading your own data\n",
    "If you want to load in your own data, the module creates an HRTF object by pulling out relevant data from the sofa file when initialising the object. You can load your own sofa file like so:"
   ]
  },
  {
   "cell_type": "code",
   "execution_count": null,
   "metadata": {},
   "outputs": [],
   "source": [
    "hrtf1 = ld.HRTF(hrtf_original)\n",
    "hrtf2 = ld.HRTF(hrtf_upsampled)"
   ]
  },
  {
   "cell_type": "markdown",
   "metadata": {},
   "source": [
    "\n",
    "Then we need to make sure they are matched in location positions if we want to run direct comparisons using the module. \n",
    "Hrtf 1 should be the location of the target locations you want to keep and compare against. The function then outputs the hrtfs but with them reordered such that the source positions match (exlcuding distance)"
   ]
  },
  {
   "cell_type": "code",
   "execution_count": null,
   "metadata": {},
   "outputs": [],
   "source": [
    "hrtf1,hrtf2 = ld.match_hrtf_locations(hrtf1,hrtf2)"
   ]
  },
  {
   "cell_type": "markdown",
   "metadata": {},
   "source": [
    "You can then calculate the differences between the ITD, ILD and LSD separately like so:"
   ]
  },
  {
   "cell_type": "code",
   "execution_count": null,
   "metadata": {},
   "outputs": [],
   "source": [
    "from spatialaudiometrics import hrtf_metrics as hf\n",
    "\n",
    "itd_diff = hf.calculate_itd_difference(hrtf1,hrtf2)\n",
    "ild_diff = hf.calculate_ild_difference(hrtf1,hrtf2)\n",
    "lsd,lsd_mat = hf.calculate_lsd_across_locations(hrtf1.hrir,hrtf2.hrir,hrtf1.fs)"
   ]
  },
  {
   "cell_type": "markdown",
   "metadata": {},
   "source": [
    "Please see the documentation for more information regarding the python package (bear in mind not all of the functionality in this package is relevant to the challenge): https://spatial-audio-metrics.readthedocs.io/en/latest/"
   ]
  }
 ],
 "metadata": {
  "kernelspec": {
   "display_name": ".venv",
   "language": "python",
   "name": "python3"
  },
  "language_info": {
   "codemirror_mode": {
    "name": "ipython",
    "version": 3
   },
   "file_extension": ".py",
   "mimetype": "text/x-python",
   "name": "python",
   "nbconvert_exporter": "python",
   "pygments_lexer": "ipython3",
   "version": "3.12.0"
  }
 },
 "nbformat": 4,
 "nbformat_minor": 2
}
